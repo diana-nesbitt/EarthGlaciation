{
 "cells": [
  {
   "cell_type": "markdown",
   "id": "614dde3b",
   "metadata": {},
   "source": [
    "# Glaciating The Earth"
   ]
  },
  {
   "cell_type": "code",
   "execution_count": 1,
   "id": "5251bf62",
   "metadata": {},
   "outputs": [],
   "source": [
    "import numpy as np\n",
    "import matplotlib.pyplot as plt\n",
    "from scipy.optimize import root"
   ]
  },
  {
   "cell_type": "code",
   "execution_count": 2,
   "id": "03c9ab1c",
   "metadata": {},
   "outputs": [],
   "source": [
    "A = 202 # outgoing radiation\n",
    "B = 1.9 # outgoing radiation\n",
    "k = 1.6*B # transport parameter\n",
    "s = lambda y: 1 - 0.482*(3*y**2 - 1)/2 # solar weighting\n",
    "aw = 0.32 # water albedo\n",
    "ai = 0.62 # ice albedo\n",
    "Tc = -10.0 # critical temperature for ice formation\n",
    "Q0 = 342.0 # solar constant (1370 W/m^2 divided by 4)\n",
    "\n",
    "def Ys_cubic(ys):\n",
    "    CubicTerms = (0.241*k*(aw-ai)*ys**3)/B + (0.241*3*0.5*(aw+ai)-0.241*3)*ys**2 - k*(aw-ai)*(1+0.241)*ys/B\n",
    "    return CubicTerms\n",
    "\n",
    "def Ys_cubic_consts(Q): \n",
    "    CubicConstTerms = k*(ai-1)/B + 1.241*ai/2 + 1.241*aw/2 - 1.241 + (Tc+A/B)*(B+k)/Q\n",
    "    return CubicConstTerms"
   ]
  },
  {
   "cell_type": "code",
   "execution_count": 3,
   "id": "85496107",
   "metadata": {},
   "outputs": [
    {
     "data": {
      "text/plain": [
       "5.217201280549588e-06"
      ]
     },
     "execution_count": 3,
     "metadata": {},
     "output_type": "execute_result"
    }
   ],
   "source": [
    "Ys_cubic(ys=0.93946) - Ys_cubic_consts(Q0)"
   ]
  },
  {
   "cell_type": "code",
   "execution_count": 4,
   "id": "e4f5f4af",
   "metadata": {},
   "outputs": [
    {
     "name": "stdout",
     "output_type": "stream",
     "text": [
      "Min Q value for ice free 330.3616063989335\n",
      "Max Q value for complete ice Earth 440.72694936919913\n"
     ]
    }
   ],
   "source": [
    "Qmin = (Tc + A/B)*(B+k)/((1 - aw)*(s(1) + k/B))\n",
    "Qmax = (Tc + A/B)*(B+k)/((1 - ai)*(s(0) + k/B))\n",
    "print(\"Min Q value for ice free\", Qmin)\n",
    "print(\"Max Q value for complete ice Earth\", Qmax)"
   ]
  },
  {
   "cell_type": "code",
   "execution_count": 5,
   "id": "3dd4b32e",
   "metadata": {},
   "outputs": [
    {
     "data": {
      "text/plain": [
       "[<matplotlib.lines.Line2D at 0x217b9adea30>]"
      ]
     },
     "execution_count": 5,
     "metadata": {},
     "output_type": "execute_result"
    },
    {
     "data": {
      "image/png": "[encoded data removed]",
      "text/plain": [
       "<Figure size 600x400 with 1 Axes>"
      ]
     },
     "metadata": {},
     "output_type": "display_data"
    }
   ],
   "source": [
    "array = np.linspace(0, 1, 100)\n",
    "\n",
    "cubicsol = Ys_cubic(array) - Ys_cubic_consts(Q0)\n",
    "fig = plt.figure(figsize=(6,4))\n",
    "plt.plot(array, cubicsol, '-o')\n",
    "\n",
    "max_"
   ]
  },
  {
   "cell_type": "code",
   "execution_count": 6,
   "id": "0bb558b5",
   "metadata": {},
   "outputs": [
    {
     "name": "stdout",
     "output_type": "stream",
     "text": [
      "The solution converged.\n"
     ]
    },
    {
     "data": {
      "text/plain": [
       "array([0.93947212])"
      ]
     },
     "execution_count": 6,
     "metadata": {},
     "output_type": "execute_result"
    }
   ],
   "source": [
    "ys = 0.93946\n",
    "\n",
    "# Run the solver\n",
    "fwd = lambda ys: Ys_cubic(ys) - Ys_cubic_consts(Q0)\n",
    "sol = root(fwd, 0.9)\n",
    "print(sol.message)\n",
    "sol.x"
   ]
  },
  {
   "cell_type": "code",
   "execution_count": null,
   "id": "5a0d64e8",
   "metadata": {},
   "outputs": [],
   "source": [
    "for Q0 in"
   ]
  },
  {
   "cell_type": "code",
   "execution_count": null,
   "id": "9f2c8e06",
   "metadata": {},
   "outputs": [],
   "source": []
  },
  {
   "cell_type": "code",
   "execution_count": null,
   "id": "59f554da",
   "metadata": {},
   "outputs": [],
   "source": []
  }
 ],
 "metadata": {
  "kernelspec": {
   "display_name": "Python 3 (ipykernel)",
   "language": "python",
   "name": "python3"
  },
  "language_info": {
   "codemirror_mode": {
    "name": "ipython",
    "version": 3
   },
   "file_extension": ".py",
   "mimetype": "text/x-python",
   "name": "python",
   "nbconvert_exporter": "python",
   "pygments_lexer": "ipython3",
   "version": "3.9.13"
  }
 },
 "nbformat": 4,
 "nbformat_minor": 5
}
