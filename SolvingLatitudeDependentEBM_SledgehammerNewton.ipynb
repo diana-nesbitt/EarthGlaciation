{
 "cells": [
  {
   "cell_type": "markdown",
   "id": "a233001d",
   "metadata": {},
   "source": [
    "# The sledgehammer approach to the latitude EBM\n",
    "\n",
    "The goal of this script is to compute steady-state solutions for the latitude EBM introduced in lectures using the 'sledgehammer' approach of Newton's method. We will find that, although this works, it is highly dependent on starting with the correct initial guess. \n",
    "\n",
    "We seek the steady-state solutions via \n",
    "$$\n",
    "T* = \\Phi(T*) = \\frac{Q s(y)[1 - a(T*)] - A + k\\bar{T^*}}{B + k}\n",
    "$$"
   ]
  },
  {
   "cell_type": "code",
   "execution_count": 1,
   "id": "e83f6e33",
   "metadata": {},
   "outputs": [],
   "source": [
    "import numpy as np\n",
    "import matplotlib.pyplot as plt\n",
    "from scipy.optimize import root\n",
    "from scipy.interpolate import interp1d"
   ]
  },
  {
   "cell_type": "code",
   "execution_count": 2,
   "id": "846b93c3",
   "metadata": {},
   "outputs": [],
   "source": [
    "A = 202 # outgoing radiation\n",
    "B = 1.9 # outgoing radiation\n",
    "k = 1.6*B # transport parameter\n",
    "s = lambda y: 1 - 0.482*(3*y**2 - 1)/2 # solar weighting\n",
    "aw = 0.32 # water albedo\n",
    "ai = 0.62 # ice albedo\n",
    "Tc = -10.0 # critical temperature for ice formation\n",
    "Q = 342.0 # solar constant (1380 W/m^2 divided by 4)\n",
    "\n",
    "def Tbar(y, T):\n",
    "    # Riemann sum approximation of the integral T(y) over y    \n",
    "    I = 0\n",
    "    for i in range(0, np.size(y)-1):\n",
    "        dy = y[i+1] - y[i]\n",
    "        I = I + T[i]*dy\n",
    "        # print(i, yi, T[i])\n",
    "        # I = I + 0.5*(T[i] + T[i+1])*dy\n",
    "    return I\n",
    "\n",
    "def afunc(T): \n",
    "    # albedo function; if T > Tc, set a = aw, elseif T < Tc, a = ai\n",
    "    a = 0*T\n",
    "    for i, TT in enumerate(T):\n",
    "        if TT < Tc:\n",
    "            aa = ai\n",
    "        elif TT > Tc:\n",
    "            aa = aw\n",
    "        else:\n",
    "            aa = (ai+aw)/2\n",
    "        a[i] = aa\n",
    "    return a\n",
    "\n",
    "def myF(T, y):\n",
    "    Tb = Tbar(y, T)\n",
    "    Phi = (k*Tb + Q*s(y)*(1 - afunc(T)) - A)/(B+k)\n",
    "    F = T - Phi\n",
    "    return F\n",
    "\n",
    "def myPhi(T, y):\n",
    "    Tb = Tbar(y, T)\n",
    "    Phi = (k*Tb + Q*s(y)*(1 - afunc(T)) - A)/(B+k)\n",
    "    return Phi"
   ]
  },
  {
   "cell_type": "code",
   "execution_count": 3,
   "id": "e47e4681",
   "metadata": {},
   "outputs": [
    {
     "name": "stdout",
     "output_type": "stream",
     "text": [
      "Min Q value for ice free 330.3616063989335\n",
      "Max Q value for complete ice Earth 440.72694936919913\n"
     ]
    }
   ],
   "source": [
    "Qmin = (Tc + A/B)*(B+k)/((1 - aw)*(s(1) + k/B))\n",
    "Qmax = (Tc + A/B)*(B+k)/((1 - ai)*(s(0) + k/B))\n",
    "print(\"Min Q value for ice free\", Qmin)\n",
    "print(\"Max Q value for complete ice Earth\", Qmax)"
   ]
  },
  {
   "cell_type": "code",
   "execution_count": 4,
   "id": "605acf47",
   "metadata": {},
   "outputs": [
    {
     "name": "stdout",
     "output_type": "stream",
     "text": [
      "[ 20.19023482  20.17662017  20.13577623  20.067703    19.97240048\n",
      "  19.84986866  19.70010756  19.52311716  19.31889746  19.08744848\n",
      "  18.8287702   18.54286263  18.22972577  17.88935962  17.52176417\n",
      "  17.12693943  16.7048854   16.25560208  15.77908946  15.27534756\n",
      "  14.74437636  14.18617586  13.60074608  12.988087    12.34819863\n",
      "  11.68108097  10.98673402  10.26515777   9.51635223   8.7403174\n",
      "   7.93705328   7.10655986   6.24883716   5.36388516   4.45170386\n",
      "   3.51229328   2.5456534    1.55178423   0.53068577  -0.51764198\n",
      "  -1.59319903  -2.69598537  -3.826001    -4.98324592  -6.16772014\n",
      "  -7.37942364  -8.61835644 -22.39086038 -23.11363792 -23.85163183\n",
      " -24.60484211]\n",
      "The solution converged.\n"
     ]
    },
    {
     "data": {
      "image/png": "[encoded data removed]",
      "text/plain": [
       "<Figure size 600x400 with 1 Axes>"
      ]
     },
     "metadata": {},
     "output_type": "display_data"
    }
   ],
   "source": [
    "# Initialise the mesh with N points\n",
    "N = 51\n",
    "y = np.linspace(0, 1, N)\n",
    "\n",
    "# Iterative scheme\n",
    "# Form an initial guess \n",
    "# Try this one for the fake solution\n",
    "Tequator = 20; Tpole = -12;\n",
    "# Try this one for the true solution\n",
    "# Tequator = 20\n",
    "# Tpole = -12\n",
    "T = Tequator + (Tpole - Tequator)*y\n",
    "# T = 0*y - 9.5\n",
    "# T = 0*y - 30\n",
    "# T = 0*y + 30\n",
    "\n",
    "# Run the solver\n",
    "fwd = lambda T: T - myPhi(T, y)\n",
    "print(myPhi(T,y))\n",
    "sol = root(fwd, T)\n",
    "print(sol.message)\n",
    "\n",
    "# Plot the output\n",
    "solT = sol.x;\n",
    "fig = plt.figure(figsize=(6,4))\n",
    "plt.plot(y, solT, '-o')\n",
    "plt.xlabel('y'); plt.ylabel('T')\n",
    "plt.title(\"Mean temperature = %1.3f\" % Tbar(y, solT));"
   ]
  },
  {
   "cell_type": "code",
   "execution_count": 5,
   "id": "6299cea5",
   "metadata": {},
   "outputs": [],
   "source": [
    "# 2022-23 delivery: ignore the below\n",
    "# # Iterative scheme\n",
    "# # Form an initial guess \n",
    "# # Try this one for the fake solution\n",
    "# # Tequator = 20; Tpole = -20;\n",
    "# # Try this one for the true solution\n",
    "# Tequator = 20; Tpole = -12;\n",
    "# T = Tequator + (Tpole - Tequator)*y\n",
    "# # T = 0*y - 9.5\n",
    "# # T = 0*y - 30\n",
    "# # T = 0*y + 30\n",
    "# plt.figure()\n",
    "# for i in range(0,50):\n",
    "#     T = myPhi(T,y)\n",
    "#     Tb = Tbar(y,T)\n",
    "#     plt.plot(i, Tb, 'o')"
   ]
  },
  {
   "cell_type": "code",
   "execution_count": null,
   "id": "334fbea6",
   "metadata": {},
   "outputs": [],
   "source": []
  }
 ],
 "metadata": {
  "kernelspec": {
   "display_name": "Python 3 (ipykernel)",
   "language": "python",
   "name": "python3"
  },
  "language_info": {
   "codemirror_mode": {
    "name": "ipython",
    "version": 3
   },
   "file_extension": ".py",
   "mimetype": "text/x-python",
   "name": "python",
   "nbconvert_exporter": "python",
   "pygments_lexer": "ipython3",
   "version": "3.9.13"
  }
 },
 "nbformat": 4,
 "nbformat_minor": 5
}
